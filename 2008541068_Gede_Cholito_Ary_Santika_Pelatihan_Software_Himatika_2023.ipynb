{
  "nbformat": 4,
  "nbformat_minor": 0,
  "metadata": {
    "colab": {
      "provenance": []
    },
    "kernelspec": {
      "name": "python3",
      "display_name": "Python 3"
    },
    "language_info": {
      "name": "python"
    }
  },
  "cells": [
    {
      "cell_type": "markdown",
      "source": [
        "#Load Package"
      ],
      "metadata": {
        "id": "WbTooUfNKN24"
      }
    },
    {
      "cell_type": "code",
      "execution_count": 2,
      "metadata": {
        "id": "xZBNqHEQIGSK"
      },
      "outputs": [],
      "source": [
        "import pandas as pd #melakukan manipulasi data\n",
        "import numpy as np #array\n",
        "import seaborn as sns #membuat plot\n",
        "import matplotlib.pyplot as plt #membuat plot\n",
        "\n",
        "import warnings #mengabaikan text peringatan\n",
        "warnings.filterwarnings(\"ignore\")"
      ]
    },
    {
      "cell_type": "markdown",
      "source": [
        "#Load Dataset"
      ],
      "metadata": {
        "id": "pzAUXsFOKSY2"
      }
    },
    {
      "cell_type": "code",
      "source": [
        "asuransi_mobil = pd.read_csv('https://raw.githubusercontent.com/cholitoary/Pelatihan-Software-Himatika-2023/main/asuransi_mobil.csv')\n",
        "asuransi_mobil.head()"
      ],
      "metadata": {
        "colab": {
          "base_uri": "https://localhost:8080/",
          "height": 461
        },
        "id": "xO8zk_hAJCqH",
        "outputId": "639beb09-03cb-491b-b8fd-47e009a80157"
      },
      "execution_count": 38,
      "outputs": [
        {
          "output_type": "execute_result",
          "data": {
            "text/plain": [
              "   Unnamed: 0  IDENTITAS                  UMUR JENIS_KELAMIN  \\\n",
              "0           0     569520   lebih dari 65 tahun     perempuan   \n",
              "1           1     750365  kurang dari 25 tahun     laki-laki   \n",
              "2           2     199901  kurang dari 25 tahun     perempuan   \n",
              "3           3     478866  kurang dari 25 tahun     laki-laki   \n",
              "4           4     731664    antara 25-40 tahun     laki-laki   \n",
              "\n",
              "   PENGALAMAN_MENGEMUDI   PENDIDIKAN        PENGHASILAN  SKOR_KREDIT  \\\n",
              "0  kurang dari 10 tahun          SMA  lebih dari 3x UMR     0.629027   \n",
              "1  kurang dari 10 tahun    tidak ada    kurang dari UMR     0.357757   \n",
              "2  kurang dari 10 tahun          SMA    antara 1-2x UMR     0.493146   \n",
              "3  kurang dari 10 tahun  universitas    antara 1-2x UMR     0.206013   \n",
              "4    antara 10-20 tahun    tidak ada    antara 1-2x UMR     0.388366   \n",
              "\n",
              "  PEMILIK_KENDARAAN TAHUN_PRODUKSI         STATUS       ANAK  KODE_POS  \\\n",
              "0                ya   setelah 2020  belum menikah        ada     10238   \n",
              "1             tidak   sebelum 2020  belum menikah  tidak ada     10238   \n",
              "2                ya   sebelum 2020  belum menikah  tidak ada     10238   \n",
              "3                ya   sebelum 2020  belum menikah        ada     32765   \n",
              "4                ya   sebelum 2020  belum menikah  tidak ada     32765   \n",
              "\n",
              "   KM_PER_TAHUN JENIS_KENDARAAN  TILANG_NGEBUT  TILANG_MABUK  \\\n",
              "0       12000.0        keluarga              0             0   \n",
              "1       16000.0        keluarga              0             0   \n",
              "2       11000.0        keluarga              0             0   \n",
              "3       11000.0        keluarga              0             0   \n",
              "4       12000.0        keluarga              2             0   \n",
              "\n",
              "   KECELAKAAN_SEBELUMNYA  KLAIM  \n",
              "0                      0  tidak  \n",
              "1                      0     ya  \n",
              "2                      0  tidak  \n",
              "3                      0  tidak  \n",
              "4                      1     ya  "
            ],
            "text/html": [
              "\n",
              "  <div id=\"df-cc5aa639-e9ab-4b98-b03b-f3d09221c84a\">\n",
              "    <div class=\"colab-df-container\">\n",
              "      <div>\n",
              "<style scoped>\n",
              "    .dataframe tbody tr th:only-of-type {\n",
              "        vertical-align: middle;\n",
              "    }\n",
              "\n",
              "    .dataframe tbody tr th {\n",
              "        vertical-align: top;\n",
              "    }\n",
              "\n",
              "    .dataframe thead th {\n",
              "        text-align: right;\n",
              "    }\n",
              "</style>\n",
              "<table border=\"1\" class=\"dataframe\">\n",
              "  <thead>\n",
              "    <tr style=\"text-align: right;\">\n",
              "      <th></th>\n",
              "      <th>Unnamed: 0</th>\n",
              "      <th>IDENTITAS</th>\n",
              "      <th>UMUR</th>\n",
              "      <th>JENIS_KELAMIN</th>\n",
              "      <th>PENGALAMAN_MENGEMUDI</th>\n",
              "      <th>PENDIDIKAN</th>\n",
              "      <th>PENGHASILAN</th>\n",
              "      <th>SKOR_KREDIT</th>\n",
              "      <th>PEMILIK_KENDARAAN</th>\n",
              "      <th>TAHUN_PRODUKSI</th>\n",
              "      <th>STATUS</th>\n",
              "      <th>ANAK</th>\n",
              "      <th>KODE_POS</th>\n",
              "      <th>KM_PER_TAHUN</th>\n",
              "      <th>JENIS_KENDARAAN</th>\n",
              "      <th>TILANG_NGEBUT</th>\n",
              "      <th>TILANG_MABUK</th>\n",
              "      <th>KECELAKAAN_SEBELUMNYA</th>\n",
              "      <th>KLAIM</th>\n",
              "    </tr>\n",
              "  </thead>\n",
              "  <tbody>\n",
              "    <tr>\n",
              "      <th>0</th>\n",
              "      <td>0</td>\n",
              "      <td>569520</td>\n",
              "      <td>lebih dari 65 tahun</td>\n",
              "      <td>perempuan</td>\n",
              "      <td>kurang dari 10 tahun</td>\n",
              "      <td>SMA</td>\n",
              "      <td>lebih dari 3x UMR</td>\n",
              "      <td>0.629027</td>\n",
              "      <td>ya</td>\n",
              "      <td>setelah 2020</td>\n",
              "      <td>belum menikah</td>\n",
              "      <td>ada</td>\n",
              "      <td>10238</td>\n",
              "      <td>12000.0</td>\n",
              "      <td>keluarga</td>\n",
              "      <td>0</td>\n",
              "      <td>0</td>\n",
              "      <td>0</td>\n",
              "      <td>tidak</td>\n",
              "    </tr>\n",
              "    <tr>\n",
              "      <th>1</th>\n",
              "      <td>1</td>\n",
              "      <td>750365</td>\n",
              "      <td>kurang dari 25 tahun</td>\n",
              "      <td>laki-laki</td>\n",
              "      <td>kurang dari 10 tahun</td>\n",
              "      <td>tidak ada</td>\n",
              "      <td>kurang dari UMR</td>\n",
              "      <td>0.357757</td>\n",
              "      <td>tidak</td>\n",
              "      <td>sebelum 2020</td>\n",
              "      <td>belum menikah</td>\n",
              "      <td>tidak ada</td>\n",
              "      <td>10238</td>\n",
              "      <td>16000.0</td>\n",
              "      <td>keluarga</td>\n",
              "      <td>0</td>\n",
              "      <td>0</td>\n",
              "      <td>0</td>\n",
              "      <td>ya</td>\n",
              "    </tr>\n",
              "    <tr>\n",
              "      <th>2</th>\n",
              "      <td>2</td>\n",
              "      <td>199901</td>\n",
              "      <td>kurang dari 25 tahun</td>\n",
              "      <td>perempuan</td>\n",
              "      <td>kurang dari 10 tahun</td>\n",
              "      <td>SMA</td>\n",
              "      <td>antara 1-2x UMR</td>\n",
              "      <td>0.493146</td>\n",
              "      <td>ya</td>\n",
              "      <td>sebelum 2020</td>\n",
              "      <td>belum menikah</td>\n",
              "      <td>tidak ada</td>\n",
              "      <td>10238</td>\n",
              "      <td>11000.0</td>\n",
              "      <td>keluarga</td>\n",
              "      <td>0</td>\n",
              "      <td>0</td>\n",
              "      <td>0</td>\n",
              "      <td>tidak</td>\n",
              "    </tr>\n",
              "    <tr>\n",
              "      <th>3</th>\n",
              "      <td>3</td>\n",
              "      <td>478866</td>\n",
              "      <td>kurang dari 25 tahun</td>\n",
              "      <td>laki-laki</td>\n",
              "      <td>kurang dari 10 tahun</td>\n",
              "      <td>universitas</td>\n",
              "      <td>antara 1-2x UMR</td>\n",
              "      <td>0.206013</td>\n",
              "      <td>ya</td>\n",
              "      <td>sebelum 2020</td>\n",
              "      <td>belum menikah</td>\n",
              "      <td>ada</td>\n",
              "      <td>32765</td>\n",
              "      <td>11000.0</td>\n",
              "      <td>keluarga</td>\n",
              "      <td>0</td>\n",
              "      <td>0</td>\n",
              "      <td>0</td>\n",
              "      <td>tidak</td>\n",
              "    </tr>\n",
              "    <tr>\n",
              "      <th>4</th>\n",
              "      <td>4</td>\n",
              "      <td>731664</td>\n",
              "      <td>antara 25-40 tahun</td>\n",
              "      <td>laki-laki</td>\n",
              "      <td>antara 10-20 tahun</td>\n",
              "      <td>tidak ada</td>\n",
              "      <td>antara 1-2x UMR</td>\n",
              "      <td>0.388366</td>\n",
              "      <td>ya</td>\n",
              "      <td>sebelum 2020</td>\n",
              "      <td>belum menikah</td>\n",
              "      <td>tidak ada</td>\n",
              "      <td>32765</td>\n",
              "      <td>12000.0</td>\n",
              "      <td>keluarga</td>\n",
              "      <td>2</td>\n",
              "      <td>0</td>\n",
              "      <td>1</td>\n",
              "      <td>ya</td>\n",
              "    </tr>\n",
              "  </tbody>\n",
              "</table>\n",
              "</div>\n",
              "      <button class=\"colab-df-convert\" onclick=\"convertToInteractive('df-cc5aa639-e9ab-4b98-b03b-f3d09221c84a')\"\n",
              "              title=\"Convert this dataframe to an interactive table.\"\n",
              "              style=\"display:none;\">\n",
              "        \n",
              "  <svg xmlns=\"http://www.w3.org/2000/svg\" height=\"24px\"viewBox=\"0 0 24 24\"\n",
              "       width=\"24px\">\n",
              "    <path d=\"M0 0h24v24H0V0z\" fill=\"none\"/>\n",
              "    <path d=\"M18.56 5.44l.94 2.06.94-2.06 2.06-.94-2.06-.94-.94-2.06-.94 2.06-2.06.94zm-11 1L8.5 8.5l.94-2.06 2.06-.94-2.06-.94L8.5 2.5l-.94 2.06-2.06.94zm10 10l.94 2.06.94-2.06 2.06-.94-2.06-.94-.94-2.06-.94 2.06-2.06.94z\"/><path d=\"M17.41 7.96l-1.37-1.37c-.4-.4-.92-.59-1.43-.59-.52 0-1.04.2-1.43.59L10.3 9.45l-7.72 7.72c-.78.78-.78 2.05 0 2.83L4 21.41c.39.39.9.59 1.41.59.51 0 1.02-.2 1.41-.59l7.78-7.78 2.81-2.81c.8-.78.8-2.07 0-2.86zM5.41 20L4 18.59l7.72-7.72 1.47 1.35L5.41 20z\"/>\n",
              "  </svg>\n",
              "      </button>\n",
              "      \n",
              "  <style>\n",
              "    .colab-df-container {\n",
              "      display:flex;\n",
              "      flex-wrap:wrap;\n",
              "      gap: 12px;\n",
              "    }\n",
              "\n",
              "    .colab-df-convert {\n",
              "      background-color: #E8F0FE;\n",
              "      border: none;\n",
              "      border-radius: 50%;\n",
              "      cursor: pointer;\n",
              "      display: none;\n",
              "      fill: #1967D2;\n",
              "      height: 32px;\n",
              "      padding: 0 0 0 0;\n",
              "      width: 32px;\n",
              "    }\n",
              "\n",
              "    .colab-df-convert:hover {\n",
              "      background-color: #E2EBFA;\n",
              "      box-shadow: 0px 1px 2px rgba(60, 64, 67, 0.3), 0px 1px 3px 1px rgba(60, 64, 67, 0.15);\n",
              "      fill: #174EA6;\n",
              "    }\n",
              "\n",
              "    [theme=dark] .colab-df-convert {\n",
              "      background-color: #3B4455;\n",
              "      fill: #D2E3FC;\n",
              "    }\n",
              "\n",
              "    [theme=dark] .colab-df-convert:hover {\n",
              "      background-color: #434B5C;\n",
              "      box-shadow: 0px 1px 3px 1px rgba(0, 0, 0, 0.15);\n",
              "      filter: drop-shadow(0px 1px 2px rgba(0, 0, 0, 0.3));\n",
              "      fill: #FFFFFF;\n",
              "    }\n",
              "  </style>\n",
              "\n",
              "      <script>\n",
              "        const buttonEl =\n",
              "          document.querySelector('#df-cc5aa639-e9ab-4b98-b03b-f3d09221c84a button.colab-df-convert');\n",
              "        buttonEl.style.display =\n",
              "          google.colab.kernel.accessAllowed ? 'block' : 'none';\n",
              "\n",
              "        async function convertToInteractive(key) {\n",
              "          const element = document.querySelector('#df-cc5aa639-e9ab-4b98-b03b-f3d09221c84a');\n",
              "          const dataTable =\n",
              "            await google.colab.kernel.invokeFunction('convertToInteractive',\n",
              "                                                     [key], {});\n",
              "          if (!dataTable) return;\n",
              "\n",
              "          const docLinkHtml = 'Like what you see? Visit the ' +\n",
              "            '<a target=\"_blank\" href=https://colab.research.google.com/notebooks/data_table.ipynb>data table notebook</a>'\n",
              "            + ' to learn more about interactive tables.';\n",
              "          element.innerHTML = '';\n",
              "          dataTable['output_type'] = 'display_data';\n",
              "          await google.colab.output.renderOutput(dataTable, element);\n",
              "          const docLink = document.createElement('div');\n",
              "          docLink.innerHTML = docLinkHtml;\n",
              "          element.appendChild(docLink);\n",
              "        }\n",
              "      </script>\n",
              "    </div>\n",
              "  </div>\n",
              "  "
            ]
          },
          "metadata": {},
          "execution_count": 38
        }
      ]
    },
    {
      "cell_type": "markdown",
      "source": [
        "#Missing Values Checking"
      ],
      "metadata": {
        "id": "6W17beR7KWZq"
      }
    },
    {
      "cell_type": "code",
      "source": [
        "asuransi_mobil.info()"
      ],
      "metadata": {
        "colab": {
          "base_uri": "https://localhost:8080/"
        },
        "id": "WuGXBC9kJV0d",
        "outputId": "0e617470-edd2-42f0-d233-00df8f49e2d0"
      },
      "execution_count": 39,
      "outputs": [
        {
          "output_type": "stream",
          "name": "stdout",
          "text": [
            "<class 'pandas.core.frame.DataFrame'>\n",
            "RangeIndex: 10000 entries, 0 to 9999\n",
            "Data columns (total 19 columns):\n",
            " #   Column                 Non-Null Count  Dtype  \n",
            "---  ------                 --------------  -----  \n",
            " 0   Unnamed: 0             10000 non-null  int64  \n",
            " 1   IDENTITAS              10000 non-null  int64  \n",
            " 2   UMUR                   10000 non-null  object \n",
            " 3   JENIS_KELAMIN          10000 non-null  object \n",
            " 4   PENGALAMAN_MENGEMUDI   10000 non-null  object \n",
            " 5   PENDIDIKAN             10000 non-null  object \n",
            " 6   PENGHASILAN            10000 non-null  object \n",
            " 7   SKOR_KREDIT            9018 non-null   float64\n",
            " 8   PEMILIK_KENDARAAN      10000 non-null  object \n",
            " 9   TAHUN_PRODUKSI         10000 non-null  object \n",
            " 10  STATUS                 10000 non-null  object \n",
            " 11  ANAK                   10000 non-null  object \n",
            " 12  KODE_POS               10000 non-null  int64  \n",
            " 13  KM_PER_TAHUN           9043 non-null   float64\n",
            " 14  JENIS_KENDARAAN        10000 non-null  object \n",
            " 15  TILANG_NGEBUT          10000 non-null  int64  \n",
            " 16  TILANG_MABUK           10000 non-null  int64  \n",
            " 17  KECELAKAAN_SEBELUMNYA  10000 non-null  int64  \n",
            " 18  KLAIM                  10000 non-null  object \n",
            "dtypes: float64(2), int64(6), object(11)\n",
            "memory usage: 1.4+ MB\n"
          ]
        }
      ]
    },
    {
      "cell_type": "markdown",
      "source": [
        "#Missing Values Handling"
      ],
      "metadata": {
        "id": "QTsCvVyfKdNk"
      }
    },
    {
      "cell_type": "code",
      "source": [
        "asuransi_mobil = asuransi_mobil.fillna(asuransi_mobil.mean())"
      ],
      "metadata": {
        "id": "1D_6ZkFCJ3ds"
      },
      "execution_count": 40,
      "outputs": []
    },
    {
      "cell_type": "code",
      "source": [
        "asuransi_mobil.info()"
      ],
      "metadata": {
        "colab": {
          "base_uri": "https://localhost:8080/"
        },
        "id": "cDI_ZuuhKAcj",
        "outputId": "988ff905-f41b-4850-d54c-dd281f114c10"
      },
      "execution_count": 41,
      "outputs": [
        {
          "output_type": "stream",
          "name": "stdout",
          "text": [
            "<class 'pandas.core.frame.DataFrame'>\n",
            "RangeIndex: 10000 entries, 0 to 9999\n",
            "Data columns (total 19 columns):\n",
            " #   Column                 Non-Null Count  Dtype  \n",
            "---  ------                 --------------  -----  \n",
            " 0   Unnamed: 0             10000 non-null  int64  \n",
            " 1   IDENTITAS              10000 non-null  int64  \n",
            " 2   UMUR                   10000 non-null  object \n",
            " 3   JENIS_KELAMIN          10000 non-null  object \n",
            " 4   PENGALAMAN_MENGEMUDI   10000 non-null  object \n",
            " 5   PENDIDIKAN             10000 non-null  object \n",
            " 6   PENGHASILAN            10000 non-null  object \n",
            " 7   SKOR_KREDIT            10000 non-null  float64\n",
            " 8   PEMILIK_KENDARAAN      10000 non-null  object \n",
            " 9   TAHUN_PRODUKSI         10000 non-null  object \n",
            " 10  STATUS                 10000 non-null  object \n",
            " 11  ANAK                   10000 non-null  object \n",
            " 12  KODE_POS               10000 non-null  int64  \n",
            " 13  KM_PER_TAHUN           10000 non-null  float64\n",
            " 14  JENIS_KENDARAAN        10000 non-null  object \n",
            " 15  TILANG_NGEBUT          10000 non-null  int64  \n",
            " 16  TILANG_MABUK           10000 non-null  int64  \n",
            " 17  KECELAKAAN_SEBELUMNYA  10000 non-null  int64  \n",
            " 18  KLAIM                  10000 non-null  object \n",
            "dtypes: float64(2), int64(6), object(11)\n",
            "memory usage: 1.4+ MB\n"
          ]
        }
      ]
    },
    {
      "cell_type": "markdown",
      "source": [
        "#Data Kategori Unik Setiap Kolom Data Kategori"
      ],
      "metadata": {
        "id": "Gmq-AUjzSAPL"
      }
    },
    {
      "cell_type": "code",
      "source": [
        "for col in asuransi_mobil.select_dtypes(include=object):\n",
        "  print(col, '\\t', asuransi_mobil[col].unique())"
      ],
      "metadata": {
        "colab": {
          "base_uri": "https://localhost:8080/"
        },
        "id": "OkDSZWqtLXAS",
        "outputId": "8b7cf0f4-a4f3-4479-db36-62bed64af713"
      },
      "execution_count": 42,
      "outputs": [
        {
          "output_type": "stream",
          "name": "stdout",
          "text": [
            "UMUR \t ['lebih dari 65 tahun' 'kurang dari 25 tahun' 'antara 25-40 tahun'\n",
            " 'antara 40-65 tahun']\n",
            "JENIS_KELAMIN \t ['perempuan' 'laki-laki']\n",
            "PENGALAMAN_MENGEMUDI \t ['kurang dari 10 tahun' 'antara 10-20 tahun' 'antara 20-30 tahun'\n",
            " 'lebih dari 30 tahun']\n",
            "PENDIDIKAN \t ['SMA' 'tidak ada' 'universitas']\n",
            "PENGHASILAN \t ['lebih dari 3x UMR' 'kurang dari UMR' 'antara 1-2x UMR' 'antara 2-3x UMR']\n",
            "PEMILIK_KENDARAAN \t ['ya' 'tidak']\n",
            "TAHUN_PRODUKSI \t ['setelah 2020' 'sebelum 2020']\n",
            "STATUS \t ['belum menikah' 'menikah']\n",
            "ANAK \t ['ada' 'tidak ada']\n",
            "JENIS_KENDARAAN \t ['keluarga' 'sport']\n",
            "KLAIM \t ['tidak' 'ya']\n"
          ]
        }
      ]
    },
    {
      "cell_type": "code",
      "source": [
        "asuransi_mobil['UMUR'] = asuransi_mobil['UMUR'].map({'lebih dari 65 tahun':4, 'antara 40-65 tahun':3,'antara 25-40 tahun':2,'kurang dari 25 tahun':1})"
      ],
      "metadata": {
        "id": "Xlue8ArqOhK5"
      },
      "execution_count": 43,
      "outputs": []
    },
    {
      "cell_type": "code",
      "source": [
        "asuransi_mobil['JENIS_KELAMIN'] = asuransi_mobil['JENIS_KELAMIN'].map({'perempuan':0, 'laki-laki':1}) "
      ],
      "metadata": {
        "id": "ERSgGUwKPZUs"
      },
      "execution_count": 44,
      "outputs": []
    },
    {
      "cell_type": "code",
      "source": [
        "asuransi_mobil['PENGALAMAN_MENGEMUDI'] = asuransi_mobil['PENGALAMAN_MENGEMUDI'].map({'kurang dari 10 tahun':1, 'antara 10-20 tahun':2, 'antara 20-30 tahun':3, 'lebih dari 30 tahun':4})"
      ],
      "metadata": {
        "id": "68vAD_AKPt21"
      },
      "execution_count": 45,
      "outputs": []
    },
    {
      "cell_type": "code",
      "source": [
        "asuransi_mobil['PENDIDIKAN'] = asuransi_mobil['PENDIDIKAN'].map({'tidak ada':0, 'SMA':1, 'universitas':2})"
      ],
      "metadata": {
        "id": "W1v_gfCbQr8b"
      },
      "execution_count": 46,
      "outputs": []
    },
    {
      "cell_type": "code",
      "source": [
        "asuransi_mobil['PENGHASILAN'] = asuransi_mobil['PENGHASILAN'].map({'lebih dari 3x UMR':4, 'kurang dari UMR':1, 'antara 1-2x UMR':2, 'antara 2-3x UMR':3})"
      ],
      "metadata": {
        "id": "ko7yuDOVRYYu"
      },
      "execution_count": 47,
      "outputs": []
    },
    {
      "cell_type": "code",
      "source": [
        "asuransi_mobil['PEMILIK_KENDARAAN'] = asuransi_mobil['PEMILIK_KENDARAAN'].map({'ya':1, 'tidak':0})"
      ],
      "metadata": {
        "id": "JXEeyNBtSVbA"
      },
      "execution_count": 48,
      "outputs": []
    },
    {
      "cell_type": "code",
      "source": [
        "asuransi_mobil['TAHUN_PRODUKSI'] = asuransi_mobil['TAHUN_PRODUKSI'].map({'setelah 2020':1, 'sebelum 2020':0})"
      ],
      "metadata": {
        "id": "KOXB4FwASuNG"
      },
      "execution_count": 49,
      "outputs": []
    },
    {
      "cell_type": "code",
      "source": [
        "asuransi_mobil['STATUS'] = asuransi_mobil['STATUS'].map({'belum menikah':0, 'menikah':1})"
      ],
      "metadata": {
        "id": "GBdyTOn5TDlz"
      },
      "execution_count": 50,
      "outputs": []
    },
    {
      "cell_type": "code",
      "source": [
        "asuransi_mobil['ANAK'] = asuransi_mobil['ANAK'].map({'tidak ada':0, 'ada':1})"
      ],
      "metadata": {
        "id": "2GS_MiayTXjL"
      },
      "execution_count": 51,
      "outputs": []
    },
    {
      "cell_type": "code",
      "source": [
        "asuransi_mobil['KLAIM'] = asuransi_mobil['KLAIM'].map({'tidak':0, 'ya':1})"
      ],
      "metadata": {
        "id": "hsGCrtBeTrLN"
      },
      "execution_count": 52,
      "outputs": []
    },
    {
      "cell_type": "code",
      "source": [
        "asuransi_mobil.info()"
      ],
      "metadata": {
        "colab": {
          "base_uri": "https://localhost:8080/"
        },
        "id": "pDExnQU0T0fq",
        "outputId": "aecaf3f5-7a2d-4f91-87a7-9d4da6fe445a"
      },
      "execution_count": 53,
      "outputs": [
        {
          "output_type": "stream",
          "name": "stdout",
          "text": [
            "<class 'pandas.core.frame.DataFrame'>\n",
            "RangeIndex: 10000 entries, 0 to 9999\n",
            "Data columns (total 19 columns):\n",
            " #   Column                 Non-Null Count  Dtype  \n",
            "---  ------                 --------------  -----  \n",
            " 0   Unnamed: 0             10000 non-null  int64  \n",
            " 1   IDENTITAS              10000 non-null  int64  \n",
            " 2   UMUR                   10000 non-null  int64  \n",
            " 3   JENIS_KELAMIN          10000 non-null  int64  \n",
            " 4   PENGALAMAN_MENGEMUDI   10000 non-null  int64  \n",
            " 5   PENDIDIKAN             10000 non-null  int64  \n",
            " 6   PENGHASILAN            10000 non-null  int64  \n",
            " 7   SKOR_KREDIT            10000 non-null  float64\n",
            " 8   PEMILIK_KENDARAAN      10000 non-null  int64  \n",
            " 9   TAHUN_PRODUKSI         10000 non-null  int64  \n",
            " 10  STATUS                 10000 non-null  int64  \n",
            " 11  ANAK                   10000 non-null  int64  \n",
            " 12  KODE_POS               10000 non-null  int64  \n",
            " 13  KM_PER_TAHUN           10000 non-null  float64\n",
            " 14  JENIS_KENDARAAN        10000 non-null  object \n",
            " 15  TILANG_NGEBUT          10000 non-null  int64  \n",
            " 16  TILANG_MABUK           10000 non-null  int64  \n",
            " 17  KECELAKAAN_SEBELUMNYA  10000 non-null  int64  \n",
            " 18  KLAIM                  10000 non-null  int64  \n",
            "dtypes: float64(2), int64(16), object(1)\n",
            "memory usage: 1.4+ MB\n"
          ]
        }
      ]
    },
    {
      "cell_type": "code",
      "source": [
        "asuransi_mobil = pd.get_dummies(asuransi_mobil)"
      ],
      "metadata": {
        "id": "D-TuZwPhUcvx"
      },
      "execution_count": 56,
      "outputs": []
    },
    {
      "cell_type": "code",
      "source": [
        "asuransi_mobil.info()"
      ],
      "metadata": {
        "colab": {
          "base_uri": "https://localhost:8080/"
        },
        "id": "-j9EHsRfUxm-",
        "outputId": "c7c07f06-1e52-4448-b251-cbba8c5f0f57"
      },
      "execution_count": 57,
      "outputs": [
        {
          "output_type": "stream",
          "name": "stdout",
          "text": [
            "<class 'pandas.core.frame.DataFrame'>\n",
            "RangeIndex: 10000 entries, 0 to 9999\n",
            "Data columns (total 20 columns):\n",
            " #   Column                    Non-Null Count  Dtype  \n",
            "---  ------                    --------------  -----  \n",
            " 0   Unnamed: 0                10000 non-null  int64  \n",
            " 1   IDENTITAS                 10000 non-null  int64  \n",
            " 2   UMUR                      10000 non-null  int64  \n",
            " 3   JENIS_KELAMIN             10000 non-null  int64  \n",
            " 4   PENGALAMAN_MENGEMUDI      10000 non-null  int64  \n",
            " 5   PENDIDIKAN                10000 non-null  int64  \n",
            " 6   PENGHASILAN               10000 non-null  int64  \n",
            " 7   SKOR_KREDIT               10000 non-null  float64\n",
            " 8   PEMILIK_KENDARAAN         10000 non-null  int64  \n",
            " 9   TAHUN_PRODUKSI            10000 non-null  int64  \n",
            " 10  STATUS                    10000 non-null  int64  \n",
            " 11  ANAK                      10000 non-null  int64  \n",
            " 12  KODE_POS                  10000 non-null  int64  \n",
            " 13  KM_PER_TAHUN              10000 non-null  float64\n",
            " 14  TILANG_NGEBUT             10000 non-null  int64  \n",
            " 15  TILANG_MABUK              10000 non-null  int64  \n",
            " 16  KECELAKAAN_SEBELUMNYA     10000 non-null  int64  \n",
            " 17  KLAIM                     10000 non-null  int64  \n",
            " 18  JENIS_KENDARAAN_keluarga  10000 non-null  uint8  \n",
            " 19  JENIS_KENDARAAN_sport     10000 non-null  uint8  \n",
            "dtypes: float64(2), int64(16), uint8(2)\n",
            "memory usage: 1.4 MB\n"
          ]
        }
      ]
    },
    {
      "cell_type": "markdown",
      "source": [
        "#Data Train Test"
      ],
      "metadata": {
        "id": "NAuW7W2NVkuq"
      }
    },
    {
      "cell_type": "code",
      "source": [
        "X = asuransi_mobil.drop(['KLAIM'], axis =1) \n",
        "y = asuransi_mobil['KLAIM']"
      ],
      "metadata": {
        "id": "sKnkC0RIVGiZ"
      },
      "execution_count": 58,
      "outputs": []
    },
    {
      "cell_type": "code",
      "source": [
        "from sklearn.model_selection import train_test_split\n",
        "X_train, X_test, y_train, y_test = train_test_split(X,y,test_size=0.2)"
      ],
      "metadata": {
        "id": "20R2QDVyVqjF"
      },
      "execution_count": 59,
      "outputs": []
    },
    {
      "cell_type": "markdown",
      "source": [
        "# Model Regresi Logistik"
      ],
      "metadata": {
        "id": "3dCBLwaHY44f"
      }
    },
    {
      "cell_type": "code",
      "source": [
        "from sklearn.linear_model import LogisticRegression\n",
        "model_lr = LogisticRegression()\n",
        "model_lr.fit(X_train,y_train)"
      ],
      "metadata": {
        "colab": {
          "base_uri": "https://localhost:8080/",
          "height": 75
        },
        "id": "mqNEs4MiV0pn",
        "outputId": "e81a5b9b-f0c0-4640-a85a-bc737be7866e"
      },
      "execution_count": 60,
      "outputs": [
        {
          "output_type": "execute_result",
          "data": {
            "text/plain": [
              "LogisticRegression()"
            ],
            "text/html": [
              "<style>#sk-container-id-1 {color: black;background-color: white;}#sk-container-id-1 pre{padding: 0;}#sk-container-id-1 div.sk-toggleable {background-color: white;}#sk-container-id-1 label.sk-toggleable__label {cursor: pointer;display: block;width: 100%;margin-bottom: 0;padding: 0.3em;box-sizing: border-box;text-align: center;}#sk-container-id-1 label.sk-toggleable__label-arrow:before {content: \"▸\";float: left;margin-right: 0.25em;color: #696969;}#sk-container-id-1 label.sk-toggleable__label-arrow:hover:before {color: black;}#sk-container-id-1 div.sk-estimator:hover label.sk-toggleable__label-arrow:before {color: black;}#sk-container-id-1 div.sk-toggleable__content {max-height: 0;max-width: 0;overflow: hidden;text-align: left;background-color: #f0f8ff;}#sk-container-id-1 div.sk-toggleable__content pre {margin: 0.2em;color: black;border-radius: 0.25em;background-color: #f0f8ff;}#sk-container-id-1 input.sk-toggleable__control:checked~div.sk-toggleable__content {max-height: 200px;max-width: 100%;overflow: auto;}#sk-container-id-1 input.sk-toggleable__control:checked~label.sk-toggleable__label-arrow:before {content: \"▾\";}#sk-container-id-1 div.sk-estimator input.sk-toggleable__control:checked~label.sk-toggleable__label {background-color: #d4ebff;}#sk-container-id-1 div.sk-label input.sk-toggleable__control:checked~label.sk-toggleable__label {background-color: #d4ebff;}#sk-container-id-1 input.sk-hidden--visually {border: 0;clip: rect(1px 1px 1px 1px);clip: rect(1px, 1px, 1px, 1px);height: 1px;margin: -1px;overflow: hidden;padding: 0;position: absolute;width: 1px;}#sk-container-id-1 div.sk-estimator {font-family: monospace;background-color: #f0f8ff;border: 1px dotted black;border-radius: 0.25em;box-sizing: border-box;margin-bottom: 0.5em;}#sk-container-id-1 div.sk-estimator:hover {background-color: #d4ebff;}#sk-container-id-1 div.sk-parallel-item::after {content: \"\";width: 100%;border-bottom: 1px solid gray;flex-grow: 1;}#sk-container-id-1 div.sk-label:hover label.sk-toggleable__label {background-color: #d4ebff;}#sk-container-id-1 div.sk-serial::before {content: \"\";position: absolute;border-left: 1px solid gray;box-sizing: border-box;top: 0;bottom: 0;left: 50%;z-index: 0;}#sk-container-id-1 div.sk-serial {display: flex;flex-direction: column;align-items: center;background-color: white;padding-right: 0.2em;padding-left: 0.2em;position: relative;}#sk-container-id-1 div.sk-item {position: relative;z-index: 1;}#sk-container-id-1 div.sk-parallel {display: flex;align-items: stretch;justify-content: center;background-color: white;position: relative;}#sk-container-id-1 div.sk-item::before, #sk-container-id-1 div.sk-parallel-item::before {content: \"\";position: absolute;border-left: 1px solid gray;box-sizing: border-box;top: 0;bottom: 0;left: 50%;z-index: -1;}#sk-container-id-1 div.sk-parallel-item {display: flex;flex-direction: column;z-index: 1;position: relative;background-color: white;}#sk-container-id-1 div.sk-parallel-item:first-child::after {align-self: flex-end;width: 50%;}#sk-container-id-1 div.sk-parallel-item:last-child::after {align-self: flex-start;width: 50%;}#sk-container-id-1 div.sk-parallel-item:only-child::after {width: 0;}#sk-container-id-1 div.sk-dashed-wrapped {border: 1px dashed gray;margin: 0 0.4em 0.5em 0.4em;box-sizing: border-box;padding-bottom: 0.4em;background-color: white;}#sk-container-id-1 div.sk-label label {font-family: monospace;font-weight: bold;display: inline-block;line-height: 1.2em;}#sk-container-id-1 div.sk-label-container {text-align: center;}#sk-container-id-1 div.sk-container {/* jupyter's `normalize.less` sets `[hidden] { display: none; }` but bootstrap.min.css set `[hidden] { display: none !important; }` so we also need the `!important` here to be able to override the default hidden behavior on the sphinx rendered scikit-learn.org. See: https://github.com/scikit-learn/scikit-learn/issues/21755 */display: inline-block !important;position: relative;}#sk-container-id-1 div.sk-text-repr-fallback {display: none;}</style><div id=\"sk-container-id-1\" class=\"sk-top-container\"><div class=\"sk-text-repr-fallback\"><pre>LogisticRegression()</pre><b>In a Jupyter environment, please rerun this cell to show the HTML representation or trust the notebook. <br />On GitHub, the HTML representation is unable to render, please try loading this page with nbviewer.org.</b></div><div class=\"sk-container\" hidden><div class=\"sk-item\"><div class=\"sk-estimator sk-toggleable\"><input class=\"sk-toggleable__control sk-hidden--visually\" id=\"sk-estimator-id-1\" type=\"checkbox\" checked><label for=\"sk-estimator-id-1\" class=\"sk-toggleable__label sk-toggleable__label-arrow\">LogisticRegression</label><div class=\"sk-toggleable__content\"><pre>LogisticRegression()</pre></div></div></div></div></div>"
            ]
          },
          "metadata": {},
          "execution_count": 60
        }
      ]
    },
    {
      "cell_type": "code",
      "source": [
        "model_lr.score(X_test,y_test)"
      ],
      "metadata": {
        "colab": {
          "base_uri": "https://localhost:8080/"
        },
        "id": "4NVKRheUWFbm",
        "outputId": "d466cca8-1ee3-4b8e-c1ab-6a31d2cd47a7"
      },
      "execution_count": 61,
      "outputs": [
        {
          "output_type": "execute_result",
          "data": {
            "text/plain": [
              "0.786"
            ]
          },
          "metadata": {},
          "execution_count": 61
        }
      ]
    },
    {
      "cell_type": "code",
      "source": [
        "pd.DataFrame(model_lr.predict(X_test))"
      ],
      "metadata": {
        "colab": {
          "base_uri": "https://localhost:8080/",
          "height": 424
        },
        "id": "HDD7KkpUZLFk",
        "outputId": "50ee17eb-57a6-4316-b62f-4cb9ada8fb27"
      },
      "execution_count": 67,
      "outputs": [
        {
          "output_type": "execute_result",
          "data": {
            "text/plain": [
              "      0\n",
              "0     0\n",
              "1     1\n",
              "2     1\n",
              "3     1\n",
              "4     0\n",
              "...  ..\n",
              "1995  0\n",
              "1996  1\n",
              "1997  1\n",
              "1998  1\n",
              "1999  0\n",
              "\n",
              "[2000 rows x 1 columns]"
            ],
            "text/html": [
              "\n",
              "  <div id=\"df-5c9aa717-552c-4dbf-83b8-ef694e8a5a3e\">\n",
              "    <div class=\"colab-df-container\">\n",
              "      <div>\n",
              "<style scoped>\n",
              "    .dataframe tbody tr th:only-of-type {\n",
              "        vertical-align: middle;\n",
              "    }\n",
              "\n",
              "    .dataframe tbody tr th {\n",
              "        vertical-align: top;\n",
              "    }\n",
              "\n",
              "    .dataframe thead th {\n",
              "        text-align: right;\n",
              "    }\n",
              "</style>\n",
              "<table border=\"1\" class=\"dataframe\">\n",
              "  <thead>\n",
              "    <tr style=\"text-align: right;\">\n",
              "      <th></th>\n",
              "      <th>0</th>\n",
              "    </tr>\n",
              "  </thead>\n",
              "  <tbody>\n",
              "    <tr>\n",
              "      <th>0</th>\n",
              "      <td>0</td>\n",
              "    </tr>\n",
              "    <tr>\n",
              "      <th>1</th>\n",
              "      <td>1</td>\n",
              "    </tr>\n",
              "    <tr>\n",
              "      <th>2</th>\n",
              "      <td>1</td>\n",
              "    </tr>\n",
              "    <tr>\n",
              "      <th>3</th>\n",
              "      <td>1</td>\n",
              "    </tr>\n",
              "    <tr>\n",
              "      <th>4</th>\n",
              "      <td>0</td>\n",
              "    </tr>\n",
              "    <tr>\n",
              "      <th>...</th>\n",
              "      <td>...</td>\n",
              "    </tr>\n",
              "    <tr>\n",
              "      <th>1995</th>\n",
              "      <td>0</td>\n",
              "    </tr>\n",
              "    <tr>\n",
              "      <th>1996</th>\n",
              "      <td>1</td>\n",
              "    </tr>\n",
              "    <tr>\n",
              "      <th>1997</th>\n",
              "      <td>1</td>\n",
              "    </tr>\n",
              "    <tr>\n",
              "      <th>1998</th>\n",
              "      <td>1</td>\n",
              "    </tr>\n",
              "    <tr>\n",
              "      <th>1999</th>\n",
              "      <td>0</td>\n",
              "    </tr>\n",
              "  </tbody>\n",
              "</table>\n",
              "<p>2000 rows × 1 columns</p>\n",
              "</div>\n",
              "      <button class=\"colab-df-convert\" onclick=\"convertToInteractive('df-5c9aa717-552c-4dbf-83b8-ef694e8a5a3e')\"\n",
              "              title=\"Convert this dataframe to an interactive table.\"\n",
              "              style=\"display:none;\">\n",
              "        \n",
              "  <svg xmlns=\"http://www.w3.org/2000/svg\" height=\"24px\"viewBox=\"0 0 24 24\"\n",
              "       width=\"24px\">\n",
              "    <path d=\"M0 0h24v24H0V0z\" fill=\"none\"/>\n",
              "    <path d=\"M18.56 5.44l.94 2.06.94-2.06 2.06-.94-2.06-.94-.94-2.06-.94 2.06-2.06.94zm-11 1L8.5 8.5l.94-2.06 2.06-.94-2.06-.94L8.5 2.5l-.94 2.06-2.06.94zm10 10l.94 2.06.94-2.06 2.06-.94-2.06-.94-.94-2.06-.94 2.06-2.06.94z\"/><path d=\"M17.41 7.96l-1.37-1.37c-.4-.4-.92-.59-1.43-.59-.52 0-1.04.2-1.43.59L10.3 9.45l-7.72 7.72c-.78.78-.78 2.05 0 2.83L4 21.41c.39.39.9.59 1.41.59.51 0 1.02-.2 1.41-.59l7.78-7.78 2.81-2.81c.8-.78.8-2.07 0-2.86zM5.41 20L4 18.59l7.72-7.72 1.47 1.35L5.41 20z\"/>\n",
              "  </svg>\n",
              "      </button>\n",
              "      \n",
              "  <style>\n",
              "    .colab-df-container {\n",
              "      display:flex;\n",
              "      flex-wrap:wrap;\n",
              "      gap: 12px;\n",
              "    }\n",
              "\n",
              "    .colab-df-convert {\n",
              "      background-color: #E8F0FE;\n",
              "      border: none;\n",
              "      border-radius: 50%;\n",
              "      cursor: pointer;\n",
              "      display: none;\n",
              "      fill: #1967D2;\n",
              "      height: 32px;\n",
              "      padding: 0 0 0 0;\n",
              "      width: 32px;\n",
              "    }\n",
              "\n",
              "    .colab-df-convert:hover {\n",
              "      background-color: #E2EBFA;\n",
              "      box-shadow: 0px 1px 2px rgba(60, 64, 67, 0.3), 0px 1px 3px 1px rgba(60, 64, 67, 0.15);\n",
              "      fill: #174EA6;\n",
              "    }\n",
              "\n",
              "    [theme=dark] .colab-df-convert {\n",
              "      background-color: #3B4455;\n",
              "      fill: #D2E3FC;\n",
              "    }\n",
              "\n",
              "    [theme=dark] .colab-df-convert:hover {\n",
              "      background-color: #434B5C;\n",
              "      box-shadow: 0px 1px 3px 1px rgba(0, 0, 0, 0.15);\n",
              "      filter: drop-shadow(0px 1px 2px rgba(0, 0, 0, 0.3));\n",
              "      fill: #FFFFFF;\n",
              "    }\n",
              "  </style>\n",
              "\n",
              "      <script>\n",
              "        const buttonEl =\n",
              "          document.querySelector('#df-5c9aa717-552c-4dbf-83b8-ef694e8a5a3e button.colab-df-convert');\n",
              "        buttonEl.style.display =\n",
              "          google.colab.kernel.accessAllowed ? 'block' : 'none';\n",
              "\n",
              "        async function convertToInteractive(key) {\n",
              "          const element = document.querySelector('#df-5c9aa717-552c-4dbf-83b8-ef694e8a5a3e');\n",
              "          const dataTable =\n",
              "            await google.colab.kernel.invokeFunction('convertToInteractive',\n",
              "                                                     [key], {});\n",
              "          if (!dataTable) return;\n",
              "\n",
              "          const docLinkHtml = 'Like what you see? Visit the ' +\n",
              "            '<a target=\"_blank\" href=https://colab.research.google.com/notebooks/data_table.ipynb>data table notebook</a>'\n",
              "            + ' to learn more about interactive tables.';\n",
              "          element.innerHTML = '';\n",
              "          dataTable['output_type'] = 'display_data';\n",
              "          await google.colab.output.renderOutput(dataTable, element);\n",
              "          const docLink = document.createElement('div');\n",
              "          docLink.innerHTML = docLinkHtml;\n",
              "          element.appendChild(docLink);\n",
              "        }\n",
              "      </script>\n",
              "    </div>\n",
              "  </div>\n",
              "  "
            ]
          },
          "metadata": {},
          "execution_count": 67
        }
      ]
    },
    {
      "cell_type": "markdown",
      "source": [
        "#Model K-Nearest Neighbors (KNN)"
      ],
      "metadata": {
        "id": "ZN7g_7t2ZATt"
      }
    },
    {
      "cell_type": "code",
      "source": [
        "from sklearn.neighbors import KNeighborsClassifier\n",
        "\n",
        "model_knn = KNeighborsClassifier(n_neighbors=3)\n",
        "model_knn.fit(X_train,y_train)"
      ],
      "metadata": {
        "colab": {
          "base_uri": "https://localhost:8080/",
          "height": 75
        },
        "id": "DEIW8ddVXWNx",
        "outputId": "c398e7cc-0e31-4abb-cdfd-9df6d4bb7fd9"
      },
      "execution_count": 64,
      "outputs": [
        {
          "output_type": "execute_result",
          "data": {
            "text/plain": [
              "KNeighborsClassifier(n_neighbors=3)"
            ],
            "text/html": [
              "<style>#sk-container-id-2 {color: black;background-color: white;}#sk-container-id-2 pre{padding: 0;}#sk-container-id-2 div.sk-toggleable {background-color: white;}#sk-container-id-2 label.sk-toggleable__label {cursor: pointer;display: block;width: 100%;margin-bottom: 0;padding: 0.3em;box-sizing: border-box;text-align: center;}#sk-container-id-2 label.sk-toggleable__label-arrow:before {content: \"▸\";float: left;margin-right: 0.25em;color: #696969;}#sk-container-id-2 label.sk-toggleable__label-arrow:hover:before {color: black;}#sk-container-id-2 div.sk-estimator:hover label.sk-toggleable__label-arrow:before {color: black;}#sk-container-id-2 div.sk-toggleable__content {max-height: 0;max-width: 0;overflow: hidden;text-align: left;background-color: #f0f8ff;}#sk-container-id-2 div.sk-toggleable__content pre {margin: 0.2em;color: black;border-radius: 0.25em;background-color: #f0f8ff;}#sk-container-id-2 input.sk-toggleable__control:checked~div.sk-toggleable__content {max-height: 200px;max-width: 100%;overflow: auto;}#sk-container-id-2 input.sk-toggleable__control:checked~label.sk-toggleable__label-arrow:before {content: \"▾\";}#sk-container-id-2 div.sk-estimator input.sk-toggleable__control:checked~label.sk-toggleable__label {background-color: #d4ebff;}#sk-container-id-2 div.sk-label input.sk-toggleable__control:checked~label.sk-toggleable__label {background-color: #d4ebff;}#sk-container-id-2 input.sk-hidden--visually {border: 0;clip: rect(1px 1px 1px 1px);clip: rect(1px, 1px, 1px, 1px);height: 1px;margin: -1px;overflow: hidden;padding: 0;position: absolute;width: 1px;}#sk-container-id-2 div.sk-estimator {font-family: monospace;background-color: #f0f8ff;border: 1px dotted black;border-radius: 0.25em;box-sizing: border-box;margin-bottom: 0.5em;}#sk-container-id-2 div.sk-estimator:hover {background-color: #d4ebff;}#sk-container-id-2 div.sk-parallel-item::after {content: \"\";width: 100%;border-bottom: 1px solid gray;flex-grow: 1;}#sk-container-id-2 div.sk-label:hover label.sk-toggleable__label {background-color: #d4ebff;}#sk-container-id-2 div.sk-serial::before {content: \"\";position: absolute;border-left: 1px solid gray;box-sizing: border-box;top: 0;bottom: 0;left: 50%;z-index: 0;}#sk-container-id-2 div.sk-serial {display: flex;flex-direction: column;align-items: center;background-color: white;padding-right: 0.2em;padding-left: 0.2em;position: relative;}#sk-container-id-2 div.sk-item {position: relative;z-index: 1;}#sk-container-id-2 div.sk-parallel {display: flex;align-items: stretch;justify-content: center;background-color: white;position: relative;}#sk-container-id-2 div.sk-item::before, #sk-container-id-2 div.sk-parallel-item::before {content: \"\";position: absolute;border-left: 1px solid gray;box-sizing: border-box;top: 0;bottom: 0;left: 50%;z-index: -1;}#sk-container-id-2 div.sk-parallel-item {display: flex;flex-direction: column;z-index: 1;position: relative;background-color: white;}#sk-container-id-2 div.sk-parallel-item:first-child::after {align-self: flex-end;width: 50%;}#sk-container-id-2 div.sk-parallel-item:last-child::after {align-self: flex-start;width: 50%;}#sk-container-id-2 div.sk-parallel-item:only-child::after {width: 0;}#sk-container-id-2 div.sk-dashed-wrapped {border: 1px dashed gray;margin: 0 0.4em 0.5em 0.4em;box-sizing: border-box;padding-bottom: 0.4em;background-color: white;}#sk-container-id-2 div.sk-label label {font-family: monospace;font-weight: bold;display: inline-block;line-height: 1.2em;}#sk-container-id-2 div.sk-label-container {text-align: center;}#sk-container-id-2 div.sk-container {/* jupyter's `normalize.less` sets `[hidden] { display: none; }` but bootstrap.min.css set `[hidden] { display: none !important; }` so we also need the `!important` here to be able to override the default hidden behavior on the sphinx rendered scikit-learn.org. See: https://github.com/scikit-learn/scikit-learn/issues/21755 */display: inline-block !important;position: relative;}#sk-container-id-2 div.sk-text-repr-fallback {display: none;}</style><div id=\"sk-container-id-2\" class=\"sk-top-container\"><div class=\"sk-text-repr-fallback\"><pre>KNeighborsClassifier(n_neighbors=3)</pre><b>In a Jupyter environment, please rerun this cell to show the HTML representation or trust the notebook. <br />On GitHub, the HTML representation is unable to render, please try loading this page with nbviewer.org.</b></div><div class=\"sk-container\" hidden><div class=\"sk-item\"><div class=\"sk-estimator sk-toggleable\"><input class=\"sk-toggleable__control sk-hidden--visually\" id=\"sk-estimator-id-2\" type=\"checkbox\" checked><label for=\"sk-estimator-id-2\" class=\"sk-toggleable__label sk-toggleable__label-arrow\">KNeighborsClassifier</label><div class=\"sk-toggleable__content\"><pre>KNeighborsClassifier(n_neighbors=3)</pre></div></div></div></div></div>"
            ]
          },
          "metadata": {},
          "execution_count": 64
        }
      ]
    },
    {
      "cell_type": "code",
      "source": [
        "model_knn.score(X_test,y_test)"
      ],
      "metadata": {
        "colab": {
          "base_uri": "https://localhost:8080/"
        },
        "id": "NA0tGtasYgVu",
        "outputId": "42299004-b0c5-48ad-c58a-e27552c59dbd"
      },
      "execution_count": 65,
      "outputs": [
        {
          "output_type": "execute_result",
          "data": {
            "text/plain": [
              "0.629"
            ]
          },
          "metadata": {},
          "execution_count": 65
        }
      ]
    },
    {
      "cell_type": "code",
      "source": [
        "pd.DataFrame(model_knn.predict(X_test))"
      ],
      "metadata": {
        "colab": {
          "base_uri": "https://localhost:8080/",
          "height": 424
        },
        "id": "QJ1EcX24Zan6",
        "outputId": "6fa02934-f425-4315-a776-2e8d32ea5307"
      },
      "execution_count": 68,
      "outputs": [
        {
          "output_type": "execute_result",
          "data": {
            "text/plain": [
              "      0\n",
              "0     0\n",
              "1     1\n",
              "2     1\n",
              "3     0\n",
              "4     0\n",
              "...  ..\n",
              "1995  0\n",
              "1996  0\n",
              "1997  1\n",
              "1998  1\n",
              "1999  0\n",
              "\n",
              "[2000 rows x 1 columns]"
            ],
            "text/html": [
              "\n",
              "  <div id=\"df-9fcf6eed-c1b6-4876-a56f-53a12fcce10f\">\n",
              "    <div class=\"colab-df-container\">\n",
              "      <div>\n",
              "<style scoped>\n",
              "    .dataframe tbody tr th:only-of-type {\n",
              "        vertical-align: middle;\n",
              "    }\n",
              "\n",
              "    .dataframe tbody tr th {\n",
              "        vertical-align: top;\n",
              "    }\n",
              "\n",
              "    .dataframe thead th {\n",
              "        text-align: right;\n",
              "    }\n",
              "</style>\n",
              "<table border=\"1\" class=\"dataframe\">\n",
              "  <thead>\n",
              "    <tr style=\"text-align: right;\">\n",
              "      <th></th>\n",
              "      <th>0</th>\n",
              "    </tr>\n",
              "  </thead>\n",
              "  <tbody>\n",
              "    <tr>\n",
              "      <th>0</th>\n",
              "      <td>0</td>\n",
              "    </tr>\n",
              "    <tr>\n",
              "      <th>1</th>\n",
              "      <td>1</td>\n",
              "    </tr>\n",
              "    <tr>\n",
              "      <th>2</th>\n",
              "      <td>1</td>\n",
              "    </tr>\n",
              "    <tr>\n",
              "      <th>3</th>\n",
              "      <td>0</td>\n",
              "    </tr>\n",
              "    <tr>\n",
              "      <th>4</th>\n",
              "      <td>0</td>\n",
              "    </tr>\n",
              "    <tr>\n",
              "      <th>...</th>\n",
              "      <td>...</td>\n",
              "    </tr>\n",
              "    <tr>\n",
              "      <th>1995</th>\n",
              "      <td>0</td>\n",
              "    </tr>\n",
              "    <tr>\n",
              "      <th>1996</th>\n",
              "      <td>0</td>\n",
              "    </tr>\n",
              "    <tr>\n",
              "      <th>1997</th>\n",
              "      <td>1</td>\n",
              "    </tr>\n",
              "    <tr>\n",
              "      <th>1998</th>\n",
              "      <td>1</td>\n",
              "    </tr>\n",
              "    <tr>\n",
              "      <th>1999</th>\n",
              "      <td>0</td>\n",
              "    </tr>\n",
              "  </tbody>\n",
              "</table>\n",
              "<p>2000 rows × 1 columns</p>\n",
              "</div>\n",
              "      <button class=\"colab-df-convert\" onclick=\"convertToInteractive('df-9fcf6eed-c1b6-4876-a56f-53a12fcce10f')\"\n",
              "              title=\"Convert this dataframe to an interactive table.\"\n",
              "              style=\"display:none;\">\n",
              "        \n",
              "  <svg xmlns=\"http://www.w3.org/2000/svg\" height=\"24px\"viewBox=\"0 0 24 24\"\n",
              "       width=\"24px\">\n",
              "    <path d=\"M0 0h24v24H0V0z\" fill=\"none\"/>\n",
              "    <path d=\"M18.56 5.44l.94 2.06.94-2.06 2.06-.94-2.06-.94-.94-2.06-.94 2.06-2.06.94zm-11 1L8.5 8.5l.94-2.06 2.06-.94-2.06-.94L8.5 2.5l-.94 2.06-2.06.94zm10 10l.94 2.06.94-2.06 2.06-.94-2.06-.94-.94-2.06-.94 2.06-2.06.94z\"/><path d=\"M17.41 7.96l-1.37-1.37c-.4-.4-.92-.59-1.43-.59-.52 0-1.04.2-1.43.59L10.3 9.45l-7.72 7.72c-.78.78-.78 2.05 0 2.83L4 21.41c.39.39.9.59 1.41.59.51 0 1.02-.2 1.41-.59l7.78-7.78 2.81-2.81c.8-.78.8-2.07 0-2.86zM5.41 20L4 18.59l7.72-7.72 1.47 1.35L5.41 20z\"/>\n",
              "  </svg>\n",
              "      </button>\n",
              "      \n",
              "  <style>\n",
              "    .colab-df-container {\n",
              "      display:flex;\n",
              "      flex-wrap:wrap;\n",
              "      gap: 12px;\n",
              "    }\n",
              "\n",
              "    .colab-df-convert {\n",
              "      background-color: #E8F0FE;\n",
              "      border: none;\n",
              "      border-radius: 50%;\n",
              "      cursor: pointer;\n",
              "      display: none;\n",
              "      fill: #1967D2;\n",
              "      height: 32px;\n",
              "      padding: 0 0 0 0;\n",
              "      width: 32px;\n",
              "    }\n",
              "\n",
              "    .colab-df-convert:hover {\n",
              "      background-color: #E2EBFA;\n",
              "      box-shadow: 0px 1px 2px rgba(60, 64, 67, 0.3), 0px 1px 3px 1px rgba(60, 64, 67, 0.15);\n",
              "      fill: #174EA6;\n",
              "    }\n",
              "\n",
              "    [theme=dark] .colab-df-convert {\n",
              "      background-color: #3B4455;\n",
              "      fill: #D2E3FC;\n",
              "    }\n",
              "\n",
              "    [theme=dark] .colab-df-convert:hover {\n",
              "      background-color: #434B5C;\n",
              "      box-shadow: 0px 1px 3px 1px rgba(0, 0, 0, 0.15);\n",
              "      filter: drop-shadow(0px 1px 2px rgba(0, 0, 0, 0.3));\n",
              "      fill: #FFFFFF;\n",
              "    }\n",
              "  </style>\n",
              "\n",
              "      <script>\n",
              "        const buttonEl =\n",
              "          document.querySelector('#df-9fcf6eed-c1b6-4876-a56f-53a12fcce10f button.colab-df-convert');\n",
              "        buttonEl.style.display =\n",
              "          google.colab.kernel.accessAllowed ? 'block' : 'none';\n",
              "\n",
              "        async function convertToInteractive(key) {\n",
              "          const element = document.querySelector('#df-9fcf6eed-c1b6-4876-a56f-53a12fcce10f');\n",
              "          const dataTable =\n",
              "            await google.colab.kernel.invokeFunction('convertToInteractive',\n",
              "                                                     [key], {});\n",
              "          if (!dataTable) return;\n",
              "\n",
              "          const docLinkHtml = 'Like what you see? Visit the ' +\n",
              "            '<a target=\"_blank\" href=https://colab.research.google.com/notebooks/data_table.ipynb>data table notebook</a>'\n",
              "            + ' to learn more about interactive tables.';\n",
              "          element.innerHTML = '';\n",
              "          dataTable['output_type'] = 'display_data';\n",
              "          await google.colab.output.renderOutput(dataTable, element);\n",
              "          const docLink = document.createElement('div');\n",
              "          docLink.innerHTML = docLinkHtml;\n",
              "          element.appendChild(docLink);\n",
              "        }\n",
              "      </script>\n",
              "    </div>\n",
              "  </div>\n",
              "  "
            ]
          },
          "metadata": {},
          "execution_count": 68
        }
      ]
    }
  ]
}